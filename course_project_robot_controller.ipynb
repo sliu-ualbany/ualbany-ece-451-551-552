{
  "cells": [
    {
      "cell_type": "markdown",
      "metadata": {
        "colab_type": "text",
        "id": "view-in-github"
      },
      "source": [
        "<a href=\"https://colab.research.google.com/github/sliu-ualbany/ualbany-ece-451-551-552/blob/main/course_project_robot_controller.ipynb\" target=\"_parent\"><img src=\"https://colab.research.google.com/assets/colab-badge.svg\" alt=\"Open In Colab\"/></a>"
      ]
    },
    {
      "cell_type": "markdown",
      "metadata": {
        "id": "qpQCasbuP0Fo"
      },
      "source": [
        "# Two-Link Robot Arm Kinematics\n",
        "\n",
        "> Adapted from Purdue 2021 Spring CS 593 course\n",
        "\n",
        "\n",
        "Through this course project, you will:\n",
        "- Get familiar and comfortable with coding in Python \n",
        "- Learn how to use Jupyter Notebook / Google Colab\n",
        "- Learn how to use MuJoCo (Multi-Joint dynamics with Contact): a popular robot simulator\n",
        "- Translate textbook knowledge towards practical use\n",
        "- Basic Robot Kinematics (forward kinematics, inverse kinematics)\n",
        "- Basic Robot Control (PD control)\n"
      ]
    },
    {
      "cell_type": "markdown",
      "metadata": {
        "id": "cherhbpIP0Ft",
        "tags": []
      },
      "source": [
        "## Getting Started\n",
        "\n",
        "We'll be using OpenAI gymnasium to model the robot's environment.\n",
        "- [OpenAI gymnasium](https://gymnasium.farama.org) is a toolkit for developing planning and control algorithms. It provides a standard API that abstracts away the model of the robot's environment. It is primarily used for reinforcement learning agents, but can work with any controller, including the PD controllers you'll build in this assignment.\n",
        "  - If you've never used gym, be sure to read this short [tutorial](https://gym.openai.com/docs/) before getting started.\n",
        "\n",
        "\n",
        "## Installation Instructions\n",
        "Before running this notebook, you'll need to install `gymnasium`"
      ]
    },
    {
      "cell_type": "code",
      "execution_count": null,
      "metadata": {
        "id": "jvduCvsoQMgy"
      },
      "outputs": [],
      "source": [
        "%pip install gymnasium[mujoco]"
      ]
    },
    {
      "cell_type": "code",
      "execution_count": null,
      "metadata": {
        "cellView": "form",
        "colab": {
          "base_uri": "https://localhost:8080/"
        },
        "id": "gmNJxxP3VXrQ",
        "outputId": "cd051acc-8dcf-4679-ad5e-5a8bba221d4e"
      },
      "outputs": [],
      "source": [
        "#@title Check if installation was successful + Setup mujoco\n",
        "\n",
        "from google.colab import files\n",
        "\n",
        "import distutils.util\n",
        "import subprocess\n",
        "if subprocess.run('nvidia-smi').returncode:\n",
        "  raise RuntimeError(\n",
        "      'Cannot communicate with GPU. '\n",
        "      'Make sure you are using a GPU Colab runtime. '\n",
        "      'Go to the Runtime menu and select Choose runtime type.')\n",
        "# Configure MuJoCo to use the EGL rendering backend (requires GPU)\n",
        "print('Setting environment variable to use GPU rendering:')\n",
        "%env MUJOCO_GL=egl\n",
        "\n",
        "try:\n",
        "  print('Checking that the installation succeeded:')\n",
        "  import mujoco\n",
        "  mujoco.MjModel.from_xml_string('<mujoco/>')\n",
        "except Exception as e:\n",
        "  raise e from RuntimeError(\n",
        "      'Something went wrong during installation. Check the shell output above '\n",
        "      'for more information.\\n'\n",
        "      'If using a hosted Colab runtime, make sure you enable GPU acceleration '\n",
        "      'by going to the Runtime menu and selecting \"Choose runtime type\".')\n",
        "\n",
        "print('Installation successful.')"
      ]
    },
    {
      "cell_type": "code",
      "execution_count": null,
      "metadata": {
        "cellView": "form",
        "colab": {
          "base_uri": "https://localhost:8080/"
        },
        "id": "gYlFNXb8WOPu",
        "outputId": "ad41f6fa-d031-4b4c-b8d1-e60250029a49"
      },
      "outputs": [],
      "source": [
        "#@title Import packages for plotting and creating graphics\n",
        "import time\n",
        "import itertools\n",
        "import numpy as np\n",
        "from typing import Callable, NamedTuple, Optional, Union, List\n",
        "\n",
        "# Graphics and plotting.\n",
        "print('Installing mediapy:')\n",
        "!command -v ffmpeg >/dev/null || (apt update && apt install -y ffmpeg)\n",
        "!pip install -q mediapy\n",
        "import mediapy as media\n",
        "import matplotlib.pyplot as plt\n",
        "\n",
        "# More legible printing from numpy.\n",
        "np.set_printoptions(precision=3, suppress=True, linewidth=100)"
      ]
    },
    {
      "cell_type": "markdown",
      "metadata": {
        "id": "rY-r7EwY3t3f"
      },
      "source": [
        "### Reacher Environment Introduction\n",
        "\n",
        "The robot arm you will be controlling looks like this:\n",
        "\n",
        "![robotArm.png](data:image/png;base64,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)\n",
        "\n",
        "The base of the robot is at the origin; the links $l_0$ and $l_1$ are 0.1 and 0.11 units long respectively.\n",
        "\n",
        "The action space of environment is [$\\tau_0$,$\\tau_1$], where $\\tau_0$ and $\\tau_1$ are the torques applied to joints $q_0$ and $q_1$ respectively."
      ]
    },
    {
      "cell_type": "code",
      "execution_count": null,
      "metadata": {
        "id": "HHBHxSVQP0Fv"
      },
      "outputs": [],
      "source": [
        "# load libraries (if this fails, see \"Installation Instructions\")\n",
        "import gymnasium as gym\n",
        "import numpy as np\n",
        "import matplotlib.pyplot as plt"
      ]
    },
    {
      "cell_type": "code",
      "execution_count": null,
      "metadata": {
        "colab": {
          "base_uri": "https://localhost:8080/",
          "height": 503
        },
        "id": "vyWCRFyEP0Fy",
        "outputId": "fd2530b5-3cc0-47dc-8470-bdaaf4c9d38c"
      },
      "outputs": [],
      "source": [
        "# initialize the environment\n",
        "env = gym.make(\"Reacher-v4\",render_mode=\"rgb_array\")\n",
        "\n",
        "observation, info = env.reset()\n",
        "media.show_image(env.render())"
      ]
    },
    {
      "cell_type": "markdown",
      "metadata": {
        "id": "AYxCGgisP0F1"
      },
      "source": [
        "Your job is to implement PD controllers that track the trajectory\n",
        "\n",
        "$$\\begin{bmatrix}x(\\theta) \\\\ y(\\theta)\\end{bmatrix}\n",
        "= \\begin{bmatrix}(0.19 + 0.02 \\cos 4\\theta)\\cos\\theta \\\\ (0.19 + 0.02 \\cos 4\\theta)\\sin\\theta\\end{bmatrix},\n",
        "\\text{ for }\\theta \\in [-\\pi, \\pi]$$\n",
        "\n",
        "This trajectory is plotted below:"
      ]
    },
    {
      "cell_type": "code",
      "execution_count": null,
      "metadata": {
        "colab": {
          "base_uri": "https://localhost:8080/",
          "height": 236
        },
        "id": "ioVXHmpZP0F2",
        "outputId": "40885736-9595-4b78-de39-9a6bd03ea787"
      },
      "outputs": [],
      "source": [
        "x = [(0.19 + 0.02 * np.cos(theta * 4)) * np.cos(theta) for theta in np.arange(-np.pi, np.pi, 0.001)]\n",
        "y = [(0.19 + 0.02 * np.cos(theta * 4)) * np.sin(theta) for theta in np.arange(-np.pi, np.pi, 0.001)]\n",
        "plt.plot(x, y)\n",
        "plt.axis('equal')\n",
        "# plt.show()\n",
        "plt.savefig('arm_traj.png')\n",
        "traj = list(zip(x,y))\n",
        "print(traj[0])"
      ]
    },
    {
      "cell_type": "markdown",
      "metadata": {
        "id": "XX5o1Dju4zLI"
      },
      "source": [
        "## What you need to do"
      ]
    },
    {
      "cell_type": "markdown",
      "metadata": {
        "id": "q9E0ipj-P0F3"
      },
      "source": [
        "### 1. Forward Kinematics"
      ]
    },
    {
      "cell_type": "markdown",
      "metadata": {
        "id": "hgSBJMUSP0F4"
      },
      "source": [
        "Derive the forward model for the robot as a closed-form expression expressed in joint angles and link length:\n",
        "\n",
        "$$f\\left(\\begin{bmatrix}q_0 \\\\ q_1\\end{bmatrix}\\right) =\n",
        "\\begin{bmatrix}\n",
        "% your answer here\n",
        "\\underline{\\;\\;\\;\\;} \\\\\n",
        "\\underline{\\;\\;\\;\\;}\n",
        "\\end{bmatrix}\n",
        "= \\begin{bmatrix} x \\\\ y\\end{bmatrix}$$"
      ]
    },
    {
      "cell_type": "markdown",
      "metadata": {
        "id": "zEg5rOZ9P0F4"
      },
      "source": [
        "Using the robot model parameters, write a function `getForwardModel` that takes the joint states and returns the end-effector position."
      ]
    },
    {
      "cell_type": "code",
      "execution_count": null,
      "metadata": {
        "id": "BqKrM9FoP0F4"
      },
      "outputs": [],
      "source": [
        "l0 = 0.1\n",
        "l1 = 0.11\n",
        "def getForwardModel(q0, q1):\n",
        "    # WRITE YOUR CODE HERE\n",
        "    \n",
        "    return np.array([x,y])"
      ]
    },
    {
      "cell_type": "code",
      "execution_count": null,
      "metadata": {
        "colab": {
          "base_uri": "https://localhost:8080/",
          "height": 538
        },
        "id": "h6AvYBqSt695",
        "outputId": "4f6acad6-ee31-4a4f-c06e-90a6bf8ab496"
      },
      "outputs": [],
      "source": [
        "# TEST CODE to help you validate your Forward Kinematics Model\n",
        "\n",
        "# resets env\n",
        "obs, info = env.reset()\n",
        "q0,q1 = np.pi,0\n",
        "\n",
        "# sets initial state of env\n",
        "env.set_state(np.array([q0,q1,0,0]),np.array([0,0,0,0]))\n",
        "q0, q1 = env.data.qpos[:2]\n",
        "xy = getForwardModel(q0,q1) # predicted xy from forward model\n",
        "\n",
        "torq = np.array([0,0])\n",
        "obs = env.step(torq)\n",
        "\n",
        "xy_exp = obs[0][8:-1] # get actual xy\n",
        "assert np.allclose(xy_exp,xy)\n",
        "\n",
        "media.show_image(env.render())"
      ]
    },
    {
      "cell_type": "markdown",
      "metadata": {
        "id": "LiotXiRxP0F5"
      },
      "source": [
        "### 2. Jacobian"
      ]
    },
    {
      "cell_type": "markdown",
      "metadata": {
        "id": "7qW00KaIP0F6"
      },
      "source": [
        "Derive the expression for the Jacobian of the robot:\n",
        "\n",
        "$$J_f(q_0, q_1) = \\begin{bmatrix}\n",
        "\\underline{\\;\\;\\;\\;} % your answer here\n",
        "\\end{bmatrix}$$"
      ]
    },
    {
      "cell_type": "markdown",
      "metadata": {
        "id": "xTIHBM3sP0F7"
      },
      "source": [
        "Write a function `getJacobian` that takes the joint states and returns the Jacobian."
      ]
    },
    {
      "cell_type": "code",
      "execution_count": null,
      "metadata": {
        "id": "-Pg3yFCRP0F7"
      },
      "outputs": [],
      "source": [
        "def getJacobian(q0, q1):\n",
        "    # WRITE YOUR CODE HERE\n",
        "\n",
        "    return np.array([jacX,jacY])"
      ]
    },
    {
      "cell_type": "markdown",
      "metadata": {
        "id": "tZe4vB1JP0F8",
        "tags": []
      },
      "source": [
        "### 3. PD Controller\n",
        "\n",
        "**Background:** From the class on Jacobians, we learned about,\n",
        "$$\\vec \\tau = J^T \\vec F,$$\n",
        "where\n",
        "- $\\vec F = \\langle F_x, F_y \\rangle$ is the force vector exerted by the robot at the end effector\n",
        "- $\\vec \\tau = \\langle \\tau_0, \\tau_1 \\rangle$ is the vector of torques exerted by the joints\n",
        "- $J$ is the Jacobian matrix at the current position.\n",
        "\n",
        "Use this fact to implement a *closed-loop PD controller* that controls the robot along the trajectory `traj`, using the error in the end-effector as the input signal. Your controller should compute forces $F_x$ and $F_y$, and then use `getJacobian` along with the above equation to translate them into joint torques.\n",
        "\n",
        "Plot the trajectory of the robot over the desired trajectory, and calculate the mean square error between both paths. Also plot the errors with respect to time, and use those plots to tune your controller.\n",
        "\n",
        "**Note: Initialize the robot arm to $q_0=\\pi$ and $q_1=0$**"
      ]
    },
    {
      "cell_type": "markdown",
      "metadata": {
        "id": "YkD1eI2tuE7r"
      },
      "source": [
        "#### PD Controller Introduction\n",
        "\n",
        "##### Introduction\n",
        "A Proportional-Derivative (PD) controller is used in control systems to regulate the output by considering both the present and the future error between the desired and actual system states.\n",
        "\n",
        "##### Mathematical Formulation\n",
        "The control input $u(t)$ of a PD controller is given by:\n",
        "\n",
        "$$\n",
        "u(t) = K_p \\cdot e(t) + K_d \\cdot \\frac{d}{dt}e(t)\n",
        "$$\n",
        "\n",
        "where:\n",
        "\n",
        "- $u(t)$ is the control input at time $t$.\n",
        "- $K_p$ is the proportional gain.\n",
        "- $K_d$ is the derivative gain.\n",
        "- $e(t)$ is the error at time $t$, defined as $e(t) = \\text{Setpoint} - \\text{Process Value}$.\n",
        "- $\\frac{d}{dt}e(t)$ is the rate of change of error with respect to time.\n",
        "\n",
        "##### Proportional Control ($K_p$)\n",
        "The proportional term produces an output value that is proportional to the error $e(t)$. The proportional response can be adjusted by multiplying the error by a constant $K_p$.\n",
        "\n",
        "##### Derivative Control ($K_d$)\n",
        "The derivative term anticipates future error by considering its rate of change. It provides a control output to counteract the rate of error change.\n",
        "\n",
        "##### Advantages\n",
        "The PD controller combines the advantages of both Proportional and Derivative control actions, making the system more stable and quicker to reach the setpoint without introducing integral action, which can lead to overshoot.\n"
      ]
    },
    {
      "cell_type": "code",
      "execution_count": null,
      "metadata": {
        "colab": {
          "base_uri": "https://localhost:8080/",
          "height": 1000
        },
        "id": "6nAImw1OP0F8",
        "outputId": "76fe29da-4e74-486c-991a-c17e5f131efc"
      },
      "outputs": [],
      "source": [
        "class PID:\n",
        "    def __init__(self,Kp,Kd):\n",
        "        self.Kp = Kp\n",
        "        self.Kd = Kd\n",
        "        self.e = 0\n",
        "        self.prev_error = 0\n",
        "\n",
        "    def calculate(self,curr,setp):\n",
        "        # WRITE YOUR CODE HERE\n",
        "       \n",
        "        return  # DEFINE YOUR RETURN\n",
        "\n",
        "Kp = np.diag(np.array([10,10]))         # experiment and tune your Kp parameter\n",
        "Kd = np.diag(np.array([0.1,0.1]))       # experiment and tune your Kd parameter\n",
        "ctrl = PID(Kp,Kd)\n",
        "\n",
        "q0,q1 = np.pi,0\n",
        "\n",
        "curr_plt = np.zeros((len(traj),2))\n",
        "\n",
        "# resets env\n",
        "obs, info = env.reset()\n",
        "\n",
        "# sets initial state of env\n",
        "env.set_state(np.array([q0,q1,0,0]),np.array([0,0,0,0]))\n",
        "\n",
        "# frames for video\n",
        "frames = []\n",
        "\n",
        "for t in range(len(traj)):\n",
        "    q0, q1 = env.data.qpos[:2] # current joint angles\n",
        "    xy = getForwardModel(q0,q1) # current end effector position\n",
        "\n",
        "    # WRITE YOUR CODE HERE\n",
        "    # Use the PD controller to return cartesian force <Fx, Fy>\n",
        "    # Use getJacobian to calculate Jacobian for current joint angles\n",
        "    # Calculate torque (torq) using the force-Jacobian relationship\n",
        "\n",
        "    env.step(torq) # step with action\n",
        "    curr_plt[t] = xy # adds current position to list for display\n",
        "    frames.append(env.render()) # rendering\n",
        "\n",
        "duration = 3.8  # (seconds)\n",
        "framerate = 60  # (Hz)\n",
        "media.show_video(frames, fps=framerate)\n",
        "\n",
        "plt.axis('equal')\n",
        "plt.plot(curr_plt[:,0],curr_plt[:,1])\n",
        "plt.plot(x,y)\n",
        "plt.show()\n",
        "\n",
        "t = np.arange(len(traj))\n",
        "err_x = curr_plt[:,0] - x\n",
        "err_y = curr_plt[:,1] - y\n",
        "plt.plot(t,err_x)\n",
        "plt.show()\n",
        "\n",
        "plt.plot(t,err_y)\n",
        "plt.show()\n",
        "mse_x = (err_x ** 2).mean(axis=None)\n",
        "mse_y = (err_y ** 2).mean(axis=None)\n",
        "print(\"MSE_x: {}\".format(mse_x))\n",
        "print(\"MSE_y: {}\".format(mse_y))\n",
        "print(\"MSE: {}\".format(mse_y + mse_x))"
      ]
    },
    {
      "cell_type": "markdown",
      "metadata": {
        "id": "VKGdxXYAP0F9"
      },
      "source": [
        "### 4. Inverse Kinematics"
      ]
    },
    {
      "cell_type": "markdown",
      "metadata": {
        "id": "TuPwejk4v9fU"
      },
      "source": [
        "#### Jacobian-Based Inverse Kinematics\n",
        "\n",
        "##### Introduction\n",
        "Jacobian-based inverse kinematics aims to find the joint angles in a robot manipulator that result in a specific end-effector position. It iteratively refines the joint angles using the Jacobian matrix to minimize the error between the current and target end-effector positions.\n",
        "\n",
        "##### Algorithm Overview\n",
        "The code snippet employs an iterative approach to find the joint angles `q` that minimize the error `err` between the end-effector's current and target positions. The algorithm uses the pseudo-inverse of the Jacobian matrix `J` to adjust `q`.\n",
        "\n",
        "##### Variables\n",
        "\n",
        "- `err`: Error term, initialized to $\\infty$.\n",
        "- `q`: Current joint angles.\n",
        "- `eps`: Error tolerance.\n",
        "- `d_x`: Deviation of the end-effector's current position from the target.\n",
        "- `J`: Jacobian matrix, calculated from `q`.\n",
        "- `pseudo_inv`: Pseudo-inverse of `J`.\n",
        "- `q_err`: Change in `q` to minimize `err`.\n",
        "- `max_iter`: Maximum number of iterations.\n",
        "\n",
        "##### Steps\n",
        "\n",
        "1. **Initialization**: Initialize `err` to $\\infty$, `q` to `current_state`, and `eps` to a small value (0.001).\n",
        "\n",
        "2. **Iteration Loop**: Iterate until `err` is smaller than `eps` or maximum iterations reached (`max_iter`).\n",
        "    - Calculate the deviation `d_x` between the current end-effector position and the target.\n",
        "    - Compute the Jacobian matrix `J`.\n",
        "    - **Singularity Handling**: If $\\text{det}(J) < \\text{eps}$, slightly perturb `q` and recalculate `J`.\n",
        "    - Calculate the pseudo-inverse `pseudo_inv` of `J`.\n",
        "    - Compute the change `q_err` needed in `q` to reduce `err`.\n",
        "    - Update `q` by subtracting `q_err`.\n",
        "    - Update `err` as the norm of `q_err`.\n",
        "\n",
        "3. **Result**: Return the final joint angles `q`.\n",
        "\n"
      ]
    },
    {
      "cell_type": "markdown",
      "metadata": {
        "id": "KOI46A4CP0F9"
      },
      "source": [
        "Using the functions `getForwardModel` and `getJacobian` from previous sections, write a function `getIK` that takes the current end-effector position, target end-effector position, and current joint states; and returns the target joint-states.\n",
        "\n",
        "Note: remember to account for singularity in your Inverse Kinematics function."
      ]
    },
    {
      "cell_type": "code",
      "execution_count": null,
      "metadata": {
        "id": "Km3LbyF_P0F-"
      },
      "outputs": [],
      "source": [
        "def getIK(target_position, current_state):\n",
        "    err = np.inf\n",
        "    q = current_state.copy()\n",
        "    # WRITE YOUR CODE HERE\n",
        "    # Follow the algorithm above\n",
        "\n",
        "    return q"
      ]
    },
    {
      "cell_type": "markdown",
      "metadata": {
        "id": "HwWv821GP0GA"
      },
      "source": [
        "Use the above closed-loop PD controller to control the robot along the trajectory `traj`, using the error in the joint-angles as the input signal.\n",
        "\n",
        "Plot the trajectory of the robot over the actual trajectory and caluclate the mean square error between both paths. Also plot the errors with respect to time, and use those plots to tune your controller.\n",
        "\n",
        "**Note: Initialize the robot arm to $q_0=\\pi$ and $q_1=0$**"
      ]
    },
    {
      "cell_type": "code",
      "execution_count": null,
      "metadata": {
        "id": "JlgEpPmVP0GA",
        "outputId": "8c1dbefa-8995-4471-c37a-481ae32b45b8",
        "scrolled": true
      },
      "outputs": [],
      "source": [
        "# PD Controller\n",
        "Kp = np.diag(np.array([1,1]))   # experiment and tune your Kp parameter\n",
        "Kd = np.diag(np.array([2,2]))   # experiment and tune your Kd parameter\n",
        "ctrl_ik = PID(Kp,Kd)            # PD controller for inverse kinematics\n",
        "\n",
        "# robot initial joint angles\n",
        "q0,q1 = np.pi,0\n",
        "\n",
        "# initialize current position array\n",
        "curr_plt = np.zeros((len(traj),2))\n",
        "\n",
        "# resets env\n",
        "obs, info = env.reset()\n",
        "\n",
        "# sets initial state of env\n",
        "env.set_state(np.array([q0,q1,0,0]),np.array([0,0,0,0]))\n",
        "\n",
        "# frames for video\n",
        "frames = []\n",
        "\n",
        "for t in range(len(traj)):\n",
        "    q0, q1 = env.data.qpos[:2] # current joint angles\n",
        "    desired_xy = traj[t]\n",
        "    # WRITE YOUR CODE HERE\n",
        "    # use getIK and PD controller to return joint torques: torq\n",
        "\n",
        "    env.step(torq) # step with action\n",
        "    curr_plt[t] = getForwardModel(q0,q1) # adds current position to list for display\n",
        "    frames.append(env.render()) # rendering\n",
        "\n",
        "duration = 3.8  # (seconds)\n",
        "framerate = 60  # (Hz)\n",
        "media.show_video(frames, fps=framerate)\n",
        "\n",
        "plt.axis('equal')\n",
        "plt.plot(curr_plt[:,0],curr_plt[:,1])\n",
        "plt.plot(x,y)\n",
        "plt.show()\n",
        "\n",
        "t = np.arange(len(traj))\n",
        "err_x = curr_plt[:,0] - x\n",
        "err_y = curr_plt[:,1] - y\n",
        "plt.plot(t,err_x)\n",
        "plt.show()\n",
        "\n",
        "plt.plot(t,err_y)\n",
        "plt.show()\n",
        "mse_x = (err_x ** 2).mean(axis=None)\n",
        "mse_y = (err_y ** 2).mean(axis=None)\n",
        "print(\"MSE_x: {}\".format(mse_x))\n",
        "print(\"MSE_y: {}\".format(mse_y))\n",
        "print(\"MSE: {}\".format(mse_y + mse_x))"
      ]
    }
  ],
  "metadata": {
    "accelerator": "GPU",
    "colab": {
      "include_colab_link": true,
      "provenance": [],
      "toc_visible": true
    },
    "gpuClass": "standard",
    "kernelspec": {
      "display_name": "Python 3",
      "language": "python",
      "name": "python3"
    },
    "language_info": {
      "codemirror_mode": {
        "name": "ipython",
        "version": 3
      },
      "file_extension": ".py",
      "mimetype": "text/x-python",
      "name": "python",
      "nbconvert_exporter": "python",
      "pygments_lexer": "ipython3",
      "version": "3.8.10"
    }
  },
  "nbformat": 4,
  "nbformat_minor": 0
}
